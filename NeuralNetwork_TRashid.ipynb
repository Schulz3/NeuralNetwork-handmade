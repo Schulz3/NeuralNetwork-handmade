{
 "cells": [
  {
   "cell_type": "code",
   "execution_count": 1,
   "metadata": {},
   "outputs": [],
   "source": [
    "import numpy as np\n",
    "import matplotlib.pyplot as plt\n",
    "import pandas as pd\n",
    "import seaborn as sn\n",
    "import sys"
   ]
  },
  {
   "cell_type": "code",
   "execution_count": 2,
   "metadata": {},
   "outputs": [
    {
     "name": "stdout",
     "output_type": "stream",
     "text": [
      "Python Version: 3.7.5 (default, Oct 25 2019, 10:52:18) \n",
      "[Clang 4.0.1 (tags/RELEASE_401/final)]\n",
      "Numpy Version: 1.18.1\n",
      "Pandas Version: 1.0.3\n",
      "Seaborn Version: 0.10.1\n"
     ]
    }
   ],
   "source": [
    "print('Python Version: ' + sys.version)\n",
    "print('Numpy Version: ' + np.__version__)\n",
    "print('Pandas Version: ' + pd.__version__)\n",
    "print('Seaborn Version: ' + sn.__version__)"
   ]
  },
  {
   "cell_type": "markdown",
   "metadata": {},
   "source": [
    "The following class \"NeuralNetwork\" was taken from the book <i>\"Make your own Neural Network\"</i>, author: <i>Tariq Rashid</i>. The book decscribes in great detail how to create a neural network step by step. The methods of the class only use functions from Numpy. The method \"train\" contains in a few lines of code everything that's needed to train a neural network. It produces good results, which will be shown later on by applying the neural network to the MNIST-dataset (more information here: https://en.wikipedia.org/wiki/MNIST_database (110 MB will be downloaded!))."
   ]
  },
  {
   "cell_type": "code",
   "execution_count": 3,
   "metadata": {},
   "outputs": [],
   "source": [
    "import scipy.special\n",
    "\n",
    "\n",
    "class NeuralNetwork:\n",
    "    def __init__(self, inputnodes, hiddennodes, outputnodes, learningrate):\n",
    "        self.inodes = inputnodes\n",
    "        self.hnodes = hiddennodes\n",
    "        self.onodes = outputnodes\n",
    "\n",
    "        self.weights_ih = np.random.normal(0.0, pow(self.hnodes, -0.5),\n",
    "                                           (self.hnodes, self.inodes))\n",
    "        self.weights_ho = np.random.normal(0.0, pow(self.onodes, -0.5),\n",
    "                                           (self.onodes, self.hnodes))\n",
    "\n",
    "        self.lr_rate = learningrate\n",
    "\n",
    "        self.activation_function = lambda x: scipy.special.expit(x)   # The expit function, also known as the logistic sigmoid function, is defined as expit(x) = 1/(1+exp(-x)). (See SciPy.org)\n",
    "\n",
    "    def train(self, inputs_list, targets_list):\n",
    "        inputs = np.array(inputs_list, ndmin=2).T\n",
    "        targets = np.array(targets_list, ndmin=2).T\n",
    "\n",
    "        ##### Forward pass: Input Layer to Hidden Layer\n",
    "        hidden_inputs = np.dot(self.weights_ih, inputs)  # Matrix .dot Vector\n",
    "        hidden_outputs = self.activation_function(hidden_inputs)\n",
    "\n",
    "        ##### Forward pass: Hidden Layer to Output Layer\n",
    "        final_inputs = np.dot(self.weights_ho, hidden_outputs)\n",
    "        final_outputs = self.activation_function(final_inputs)\n",
    "\n",
    "        ##### Calculate the error (target - actual)\n",
    "        output_errors = targets - final_outputs                     # errors of weights between hidden and output layer\n",
    "        hidden_errors = np.dot(self.weights_ho.T, output_errors)    # errors of weights between input and hidden layer\n",
    "\n",
    "        ##### Update of the weights (Backpropagation, includes Chain Rule applied to sigmoid activation function)\n",
    "        # 1st: Update of weights between hidden layer and output layer\n",
    "        self.weights_ho += self.lr_rate * np.dot((output_errors * final_outputs * (1.0 - final_outputs)),\n",
    "                                                 np.transpose(hidden_outputs))\n",
    "        # 2nd: Update of weights between input layer and hidden layer\n",
    "        self.weights_ih += self.lr_rate * np.dot((hidden_errors * hidden_outputs * (1.0 - hidden_outputs)),\n",
    "                                                 np.transpose(inputs))\n",
    "\n",
    "    def query(self, inputs_list):\n",
    "        inputs = np.array(inputs_list, ndmin=2).T\n",
    "\n",
    "        hidden_inputs = np.dot(self.weights_ih, inputs)\n",
    "        hidden_outputs = self.activation_function(hidden_inputs)\n",
    "\n",
    "        final_inputs = np.dot(self.weights_ho, hidden_outputs)\n",
    "        final_outputs = self.activation_function(final_inputs)\n",
    "\n",
    "        return final_outputs"
   ]
  },
  {
   "cell_type": "code",
   "execution_count": 4,
   "metadata": {},
   "outputs": [],
   "source": [
    "# Set the parameters for the Neural Network\n",
    "input_nodes = 784      # The images that the neural network is trained on are of size 28x28 = 784 \n",
    "hidden_nodes = 100\n",
    "output_nodes = 10      # The images contain the numbers 0-9\n",
    "learning_rate = 0.2"
   ]
  },
  {
   "cell_type": "code",
   "execution_count": 5,
   "metadata": {},
   "outputs": [],
   "source": [
    "# Instantiate the Neural Network\n",
    "nn = NeuralNetwork(input_nodes, hidden_nodes, output_nodes, learning_rate)"
   ]
  },
  {
   "cell_type": "code",
   "execution_count": 6,
   "metadata": {},
   "outputs": [],
   "source": [
    "# Load the training data (110 MB !!!)\n",
    "url = 'http://www.pjreddie.com/media/files/mnist_train.csv'\n",
    "df_training_data = pd.read_csv(url, sep=',', header=None)"
   ]
  },
  {
   "cell_type": "code",
   "execution_count": 7,
   "metadata": {},
   "outputs": [
    {
     "data": {
      "text/html": [
       "<div>\n",
       "<style scoped>\n",
       "    .dataframe tbody tr th:only-of-type {\n",
       "        vertical-align: middle;\n",
       "    }\n",
       "\n",
       "    .dataframe tbody tr th {\n",
       "        vertical-align: top;\n",
       "    }\n",
       "\n",
       "    .dataframe thead th {\n",
       "        text-align: right;\n",
       "    }\n",
       "</style>\n",
       "<table border=\"1\" class=\"dataframe\">\n",
       "  <thead>\n",
       "    <tr style=\"text-align: right;\">\n",
       "      <th></th>\n",
       "      <th>0</th>\n",
       "      <th>1</th>\n",
       "      <th>2</th>\n",
       "      <th>3</th>\n",
       "      <th>4</th>\n",
       "      <th>5</th>\n",
       "      <th>6</th>\n",
       "      <th>7</th>\n",
       "      <th>8</th>\n",
       "      <th>9</th>\n",
       "      <th>...</th>\n",
       "      <th>775</th>\n",
       "      <th>776</th>\n",
       "      <th>777</th>\n",
       "      <th>778</th>\n",
       "      <th>779</th>\n",
       "      <th>780</th>\n",
       "      <th>781</th>\n",
       "      <th>782</th>\n",
       "      <th>783</th>\n",
       "      <th>784</th>\n",
       "    </tr>\n",
       "  </thead>\n",
       "  <tbody>\n",
       "    <tr>\n",
       "      <th>0</th>\n",
       "      <td>5</td>\n",
       "      <td>0</td>\n",
       "      <td>0</td>\n",
       "      <td>0</td>\n",
       "      <td>0</td>\n",
       "      <td>0</td>\n",
       "      <td>0</td>\n",
       "      <td>0</td>\n",
       "      <td>0</td>\n",
       "      <td>0</td>\n",
       "      <td>...</td>\n",
       "      <td>0</td>\n",
       "      <td>0</td>\n",
       "      <td>0</td>\n",
       "      <td>0</td>\n",
       "      <td>0</td>\n",
       "      <td>0</td>\n",
       "      <td>0</td>\n",
       "      <td>0</td>\n",
       "      <td>0</td>\n",
       "      <td>0</td>\n",
       "    </tr>\n",
       "    <tr>\n",
       "      <th>1</th>\n",
       "      <td>0</td>\n",
       "      <td>0</td>\n",
       "      <td>0</td>\n",
       "      <td>0</td>\n",
       "      <td>0</td>\n",
       "      <td>0</td>\n",
       "      <td>0</td>\n",
       "      <td>0</td>\n",
       "      <td>0</td>\n",
       "      <td>0</td>\n",
       "      <td>...</td>\n",
       "      <td>0</td>\n",
       "      <td>0</td>\n",
       "      <td>0</td>\n",
       "      <td>0</td>\n",
       "      <td>0</td>\n",
       "      <td>0</td>\n",
       "      <td>0</td>\n",
       "      <td>0</td>\n",
       "      <td>0</td>\n",
       "      <td>0</td>\n",
       "    </tr>\n",
       "  </tbody>\n",
       "</table>\n",
       "<p>2 rows × 785 columns</p>\n",
       "</div>"
      ],
      "text/plain": [
       "   0    1    2    3    4    5    6    7    8    9    ...  775  776  777  778  \\\n",
       "0    5    0    0    0    0    0    0    0    0    0  ...    0    0    0    0   \n",
       "1    0    0    0    0    0    0    0    0    0    0  ...    0    0    0    0   \n",
       "\n",
       "   779  780  781  782  783  784  \n",
       "0    0    0    0    0    0    0  \n",
       "1    0    0    0    0    0    0  \n",
       "\n",
       "[2 rows x 785 columns]"
      ]
     },
     "execution_count": 7,
     "metadata": {},
     "output_type": "execute_result"
    }
   ],
   "source": [
    "df_training_data.head(2)"
   ]
  },
  {
   "cell_type": "markdown",
   "metadata": {},
   "source": [
    "The numbers in column 0 refer to the label. The numbers in column 1 to 784 refer to the grey values of the image."
   ]
  },
  {
   "cell_type": "code",
   "execution_count": 8,
   "metadata": {},
   "outputs": [
    {
     "name": "stdout",
     "output_type": "stream",
     "text": [
      "CPU times: user 288 ms, sys: 117 ms, total: 406 ms\n",
      "Wall time: 425 ms\n"
     ]
    }
   ],
   "source": [
    "%%time\n",
    "\n",
    "# Preprocess the data (for example standardize the grey values to be lying between 0.01 and 1.0)\n",
    "def preprocess(df_data):\n",
    "    targets_all = np.zeros((len(df_data), output_nodes)) + 0.01\n",
    "    targets_all[np.arange(len(targets_all)), df_data.iloc[:, 0].values] = 0.99\n",
    "    inputs_all = (df_data.iloc[:, 1:].values / 255.0 * 0.99) + 0.01\n",
    "    return targets_all, inputs_all\n",
    "\n",
    "training_targets_all, training_inputs_all = preprocess(df_training_data)"
   ]
  },
  {
   "cell_type": "code",
   "execution_count": 9,
   "metadata": {},
   "outputs": [
    {
     "name": "stdout",
     "output_type": "stream",
     "text": [
      "TRAINING with 60000 data samples...   Epoch: 1\n",
      "\n",
      "CPU times: user 31.6 s, sys: 873 ms, total: 32.4 s\n",
      "Wall time: 21.6 s\n"
     ]
    }
   ],
   "source": [
    "%%time\n",
    "\n",
    "# Training with all available data samples for 1 epoch (multiple epochs do not improve the test result)\n",
    "for epoch in range(1):\n",
    "    print('TRAINING with ' + str(len(training_targets_all)) + ' data samples...   Epoch: ' + str(epoch + 1) + '\\n')\n",
    "    for inputs, targets in zip(training_inputs_all, training_targets_all):\n",
    "        nn.train(inputs, targets)"
   ]
  },
  {
   "cell_type": "code",
   "execution_count": 10,
   "metadata": {},
   "outputs": [],
   "source": [
    "# Load the test data ()\n",
    "url = 'http://www.pjreddie.com/media/files/mnist_test.csv'\n",
    "df_testing_data = pd.read_csv(url, sep=',', header=None)"
   ]
  },
  {
   "cell_type": "code",
   "execution_count": 11,
   "metadata": {},
   "outputs": [
    {
     "name": "stdout",
     "output_type": "stream",
     "text": [
      "TESTING with 10000 data samples...\n",
      "\n",
      "CPU times: user 711 ms, sys: 32.6 ms, total: 744 ms\n",
      "Wall time: 463 ms\n"
     ]
    }
   ],
   "source": [
    "%%time\n",
    "\n",
    "# Testing\n",
    "output_correct = df_testing_data.iloc[:, 0].values\n",
    "testing_targets_all, testing_inputs_all = preprocess(df_testing_data)\n",
    "print('TESTING with ' + str(len(testing_targets_all)) + ' data samples...\\n')\n",
    "output_tmp = list(map(nn.query, testing_inputs_all))\n",
    "output_nn = np.array(list(map(np.argmax, output_tmp)))"
   ]
  },
  {
   "cell_type": "code",
   "execution_count": 12,
   "metadata": {},
   "outputs": [
    {
     "data": {
      "image/png": "[encoded data removed]",
      "text/plain": [
       "<Figure size 792x576 with 2 Axes>"
      ]
     },
     "metadata": {
      "needs_background": "light"
     },
     "output_type": "display_data"
    }
   ],
   "source": [
    "%matplotlib inline\n",
    "\n",
    "from matplotlib.colors import LogNorm\n",
    "from sklearn.metrics import confusion_matrix\n",
    "\n",
    "conf_matrix = confusion_matrix(output_correct, output_nn, normalize='true') * 100\n",
    "moin = np.where(conf_matrix > 0.0, conf_matrix, 0.01)\n",
    "ax = sn.heatmap(moin, annot=True, fmt='.1f', cmap=plt.cm.Blues,\n",
    "                vmax=100, linewidths=0.5, linecolor='grey', norm=LogNorm())\n",
    "ax.set_title('Confusion Matrix\\n' + f'Training Size: {str(len(training_targets_all))}')\n",
    "ax.set_xlabel('Inferred Labels', fontsize=16, fontweight='bold')\n",
    "ax.set_ylabel('True Labels', fontsize=16, fontweight='bold')\n",
    "\n",
    "# Make the figure a bit nicer\n",
    "for _, spine in ax.spines.items():\n",
    "    spine.set_visible(True)\n",
    "for text in ax.texts:\n",
    "    if text.get_text() == '0.0':\n",
    "        text.set_text('0')\n",
    "    text.set_text(text.get_text() + \" %\")\n",
    "plt.gcf().set_size_inches(11,8)"
   ]
  },
  {
   "cell_type": "code",
   "execution_count": 13,
   "metadata": {},
   "outputs": [
    {
     "name": "stdout",
     "output_type": "stream",
     "text": [
      "              precision    recall  f1-score   support\n",
      "\n",
      "           0      0.959     0.987     0.973       980\n",
      "           1      0.968     0.987     0.977      1135\n",
      "           2      0.977     0.922     0.949      1032\n",
      "           3      0.924     0.966     0.945      1010\n",
      "           4      0.966     0.952     0.959       982\n",
      "           5      0.978     0.910     0.943       892\n",
      "           6      0.963     0.969     0.966       958\n",
      "           7      0.977     0.919     0.947      1028\n",
      "           8      0.918     0.941     0.930       974\n",
      "           9      0.899     0.959     0.928      1009\n",
      "\n",
      "    accuracy                          0.952     10000\n",
      "   macro avg      0.953     0.951     0.952     10000\n",
      "weighted avg      0.953     0.952     0.952     10000\n",
      "\n"
     ]
    }
   ],
   "source": [
    "from sklearn.metrics import classification_report\n",
    "\n",
    "print(classification_report(output_correct, output_nn, digits=3))"
   ]
  },
  {
   "cell_type": "code",
   "execution_count": null,
   "metadata": {},
   "outputs": [],
   "source": []
  }
 ],
 "metadata": {
  "kernelspec": {
   "display_name": "Python 3",
   "language": "python",
   "name": "python3"
  },
  "language_info": {
   "codemirror_mode": {
    "name": "ipython",
    "version": 3
   },
   "file_extension": ".py",
   "mimetype": "text/x-python",
   "name": "python",
   "nbconvert_exporter": "python",
   "pygments_lexer": "ipython3",
   "version": "3.7.5"
  }
 },
 "nbformat": 4,
 "nbformat_minor": 4
}
